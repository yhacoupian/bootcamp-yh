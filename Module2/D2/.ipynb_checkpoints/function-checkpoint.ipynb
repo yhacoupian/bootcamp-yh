{
 "cells": [
  {
   "cell_type": "code",
   "execution_count": 12,
   "id": "nervous-separation",
   "metadata": {},
   "outputs": [
    {
     "name": "stdout",
     "output_type": "stream",
     "text": [
      "Year One Growth: 55.00000000000001%\n",
      "Year Two Growth: 4.0%\n",
      "Year Three Growth: 4.0%\n",
      "Growth rates:  {2016: 55.00000000000001, 2017: 4.0, 2018: 4.0}\n"
     ]
    }
   ],
   "source": [
    "\"\"\"\n",
    "Determine the Compound Annual Growth Rate for an investment\n",
    "\"\"\"\n",
    "\n",
    "# Declare a variable beginning_balance as a float\n",
    "beginning_balance = 29000.00\n",
    "\n",
    "# Declare a variable ending_balance as float\n",
    "ending_balance = 45000.10\n",
    "\n",
    "# Declare a variable years as an float\n",
    "years = 1.0\n",
    "\n",
    "# Define a function called calculate_compound_growth_rate with three arguments: beginning_balance, ending_balance, years. Function should output growth_rate.\n",
    "def calculate_compound_growth_rate(beginning_balance, ending_balance, years):\n",
    "    return ((ending_balance/beginning_balance)**(1/years)) - 1\n",
    "\n",
    "# Call calculate_compound_growth_rate using beginning_balance, ending_balance, and years. Capture as year_one_growth.\n",
    "\n",
    "year_one_growth = calculate_compound_growth_rate(beginning_balance, ending_balance, years)\n",
    "\n",
    "\n",
    "# Update beginning_balance and ending balance for year two, and then execute calculate_compound_growth_rate\n",
    "\n",
    "beginning_balance = 45000.00\n",
    "ending_balance = 47000.00\n",
    "\n",
    "# Call calculate_compound_growth_rate using beginning_balance, ending_balance, and years. Capture as year_two_growth.\n",
    "year_two_growth = calculate_compound_growth_rate(beginning_balance, ending_balance, years)\n",
    "\n",
    "# Update beginning_balance and ending balance for year three, and then execute calculate_compound_growth_rate\n",
    "beginning_balance = 47000.00\n",
    "ending_balance = 48930.00\n",
    "\n",
    "# Call calculate_compound_growth_rate using beginning_balance, ending_balance, and years. Capture as year_three_growth.\n",
    "year_three_growth = calculate_compound_growth_rate(beginning_balance, ending_balance, years)\n",
    "\n",
    "# Use Python round() function to round year_one_growth, year_two_growth, and year_three_growth. Capture these as new variables.\n",
    "\n",
    "# Print year_one_growth, year_two_growth, year_three_growth as percents using string formatting\n",
    "print(f\"Year One Growth: {100*round(year_one_growth, 2)}%\")\n",
    "print(f\"Year Two Growth: {100*round(year_two_growth, 2)}%\")\n",
    "print(f\"Year Three Growth: {100*round(year_three_growth, 2)}%\")\n",
    "\n",
    "# Challenge\n",
    "\n",
    "# Create a global, empty list\n",
    "\n",
    "growth_rates={}\n",
    "# Define a function called\n",
    "def calculate_compound_growth_rate_list(beginning_balance, ending_balance, years, theyear):\n",
    "    growth_rates[theyear] = 100*round(calculate_compound_growth_rate(beginning_balance, ending_balance, years), 2)\n",
    "\n",
    "    # Populate growth_rates list using add() function\n",
    "\n",
    "\n",
    "# Call calculate_compound_growth_rate_list and populate growth_rates with 2016 values (beginning_balance and ending_balance)\n",
    "beginning_balance = 29000.00\n",
    "ending_balance = 45000.10\n",
    "calculate_compound_growth_rate_list(beginning_balance, ending_balance, years, 2016)\n",
    "\n",
    "# Call calculate_compound_growth_rate_list and populate growth_rates with 2017 values (beginning_balance and ending_balance)\n",
    "beginning_balance = 45000.00\n",
    "ending_balance = 47000.00\n",
    "\n",
    "calculate_compound_growth_rate_list(beginning_balance, ending_balance, years, 2017)\n",
    "# Call calculate_compound_growth_rate_list and populate growth_rates with 2018 values (beginning_balance and ending_balance)\n",
    "beginning_balance = 47000.00\n",
    "ending_balance = 48930.00\n",
    "calculate_compound_growth_rate_list(beginning_balance, ending_balance, years, 2018)\n",
    "\n",
    "# Print growth_rates list\n",
    "print(\"Growth rates: \", growth_rates)\n"
   ]
  },
  {
   "cell_type": "code",
   "execution_count": null,
   "id": "wanted-significance",
   "metadata": {},
   "outputs": [],
   "source": []
  }
 ],
 "metadata": {
  "kernelspec": {
   "display_name": "Python 3",
   "language": "python",
   "name": "python3"
  },
  "language_info": {
   "codemirror_mode": {
    "name": "ipython",
    "version": 3
   },
   "file_extension": ".py",
   "mimetype": "text/x-python",
   "name": "python",
   "nbconvert_exporter": "python",
   "pygments_lexer": "ipython3",
   "version": "3.8.5"
  }
 },
 "nbformat": 4,
 "nbformat_minor": 5
}
