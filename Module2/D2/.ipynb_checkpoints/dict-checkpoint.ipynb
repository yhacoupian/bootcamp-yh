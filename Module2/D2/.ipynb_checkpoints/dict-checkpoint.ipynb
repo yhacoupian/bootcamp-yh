{
 "cells": [
  {
   "cell_type": "code",
   "execution_count": 136,
   "id": "ready-bahamas",
   "metadata": {},
   "outputs": [],
   "source": [
    "banks = {\n",
    " \"JP Morgan Chase\": 327,\n",
    " \"Bank of America\": 302,\n",
    " \"Citigroup\": 173,\n",
    " \"Wells Fargo\": 273,\n",
    " \"Goldman Sachs\": 87,\n",
    " \"Morgan Stanley\": 72,\n",
    " \"U.S. Bancorp\": 83,\n",
    " \"TD Bank\": 108,\n",
    " \"PNC Financial Services\": 67,\n",
    " \"Capital One\": 47,\n",
    " \"FNB Corporation\": 4,\n",
    " \"First Hawaiian Bank\": 3,\n",
    " \"Ally Financial\": 12,\n",
    " \"Wachovia\": 145,\n",
    " \"Republic Bancorp\": .97\n",
    "}"
   ]
  },
  {
   "cell_type": "code",
   "execution_count": 137,
   "id": "contemporary-ending",
   "metadata": {},
   "outputs": [],
   "source": [
    "banks[\"Citigroup\"] = 170"
   ]
  },
  {
   "cell_type": "code",
   "execution_count": 138,
   "id": "starting-proof",
   "metadata": {},
   "outputs": [
    {
     "data": {
      "text/plain": [
       "{'JP Morgan Chase': 327,\n",
       " 'Bank of America': 302,\n",
       " 'Citigroup': 170,\n",
       " 'Wells Fargo': 273,\n",
       " 'Goldman Sachs': 87,\n",
       " 'Morgan Stanley': 72,\n",
       " 'U.S. Bancorp': 83,\n",
       " 'TD Bank': 108,\n",
       " 'PNC Financial Services': 67,\n",
       " 'Capital One': 47,\n",
       " 'FNB Corporation': 4,\n",
       " 'First Hawaiian Bank': 3,\n",
       " 'Ally Financial': 12,\n",
       " 'Wachovia': 145,\n",
       " 'Republic Bancorp': 0.97}"
      ]
     },
     "execution_count": 138,
     "metadata": {},
     "output_type": "execute_result"
    }
   ],
   "source": [
    "banks"
   ]
  },
  {
   "cell_type": "code",
   "execution_count": 139,
   "id": "imposed-melbourne",
   "metadata": {},
   "outputs": [],
   "source": [
    "banks[\"American Express\"] = 33"
   ]
  },
  {
   "cell_type": "code",
   "execution_count": 140,
   "id": "developmental-proposal",
   "metadata": {},
   "outputs": [
    {
     "data": {
      "text/plain": [
       "{'JP Morgan Chase': 327,\n",
       " 'Bank of America': 302,\n",
       " 'Citigroup': 170,\n",
       " 'Wells Fargo': 273,\n",
       " 'Goldman Sachs': 87,\n",
       " 'Morgan Stanley': 72,\n",
       " 'U.S. Bancorp': 83,\n",
       " 'TD Bank': 108,\n",
       " 'PNC Financial Services': 67,\n",
       " 'Capital One': 47,\n",
       " 'FNB Corporation': 4,\n",
       " 'First Hawaiian Bank': 3,\n",
       " 'Ally Financial': 12,\n",
       " 'Wachovia': 145,\n",
       " 'Republic Bancorp': 0.97,\n",
       " 'American Express': 33}"
      ]
     },
     "execution_count": 140,
     "metadata": {},
     "output_type": "execute_result"
    }
   ],
   "source": [
    "banks"
   ]
  },
  {
   "cell_type": "code",
   "execution_count": 141,
   "id": "important-chester",
   "metadata": {},
   "outputs": [
    {
     "data": {
      "text/plain": [
       "145"
      ]
     },
     "execution_count": 141,
     "metadata": {},
     "output_type": "execute_result"
    }
   ],
   "source": [
    "banks.pop(\"Wachovia\")"
   ]
  },
  {
   "cell_type": "code",
   "execution_count": 142,
   "id": "silver-sweden",
   "metadata": {},
   "outputs": [],
   "source": [
    "market_cap = 0\n",
    "megacap = []\n",
    "largecap = []\n",
    "midcap = []\n",
    "smallcap = []"
   ]
  },
  {
   "cell_type": "code",
   "execution_count": 132,
   "id": "vietnamese-brush",
   "metadata": {},
   "outputs": [
    {
     "name": "stdout",
     "output_type": "stream",
     "text": [
      "Total Market Capitalization: 1589\n",
      "Total Numer of Banks: 15\n",
      "Average Market Capitalization: 105.93\n",
      "Largest Bank: JP Morgan Chase\n",
      "Smallest Bank: Republic Bancorp\n",
      "------------------------------------------------\n",
      "Mega Cap Banks: ['JP Morgan Chase', 'Bank of America']\n",
      "Large Cap Banks: ['Citigroup', 'Wells Fargo', 'Goldman Sachs', 'Morgan Stanley', 'U.S. Bancorp', 'TD Bank', 'PNC Financial Services', 'Capital One', 'Ally Financial', 'American Express']\n",
      "Mid Cap Banks: ['FNB Corporation', 'First Hawaiian Bank']\n",
      "Small Cap Banks: ['Republic Bancorp']\n"
     ]
    }
   ],
   "source": [
    "# key = key of the dict\n",
    "# bank[key] = value assicated with the key\n",
    "\n",
    "for key in banks:\n",
    "    if banks[key] >= 300:\n",
    "        megacap.append(key)\n",
    "    elif banks[key] < 300 and banks[key]> 10:\n",
    "        largecap.append(key)\n",
    "    elif banks[key] < 10 and banks[key] > 2:\n",
    "        midcap.append(key)\n",
    "    else: smallcap.append(key)\n",
    "    market_cap = market_cap + banks[key]\n",
    "\n",
    "\n",
    "print(f\"Total Market Capitalization: {market_cap:.0f}\")\n",
    "print(f\"Total Numer of Banks: {len(banks)}\")\n",
    "print(f\"Average Market Capitalization: {market_cap/len(banks):.2f}\")\n",
    "print(f\"Largest Bank: {max(megacap)}\")\n",
    "print(f\"Smallest Bank: {min(smallcap)}\")\n",
    "print(\"------------------------------------------------\")\n",
    "print(f\"Mega Cap Banks: {megacap}\")\n",
    "print(f\"Large Cap Banks: {largecap}\")\n",
    "print(f\"Mid Cap Banks: {midcap}\")\n",
    "print(f\"Small Cap Banks: {smallcap}\")"
   ]
  },
  {
   "cell_type": "code",
   "execution_count": 143,
   "id": "vulnerable-burke",
   "metadata": {},
   "outputs": [
    {
     "name": "stdout",
     "output_type": "stream",
     "text": [
      "Total Market Capitalization: 1589\n",
      "Total Numer of Banks: 15\n",
      "Average Market Capitalization: 105.93\n",
      "Largest Bank: JP Morgan Chase\n",
      "Smallest Bank: Republic Bancorp\n",
      "------------------------------------------------\n",
      "Mega Cap Banks: ['JP Morgan Chase', 'Bank of America']\n",
      "Large Cap Banks: ['Citigroup', 'Wells Fargo', 'Goldman Sachs', 'Morgan Stanley', 'U.S. Bancorp', 'TD Bank', 'PNC Financial Services', 'Capital One', 'Ally Financial', 'American Express']\n",
      "Mid Cap Banks: ['FNB Corporation', 'First Hawaiian Bank']\n",
      "Small Cap Banks: ['Republic Bancorp']\n"
     ]
    }
   ],
   "source": [
    "# Another way of doing it using key and value \n",
    "for key, value in banks.items():\n",
    "    if value >= 300:\n",
    "        megacap.append(key)\n",
    "    elif value < 300 and value> 10:\n",
    "        largecap.append(key)\n",
    "    elif value < 10 and value > 2:\n",
    "        midcap.append(key)\n",
    "    else: smallcap.append(key)\n",
    "    market_cap += value\n",
    "\n",
    "\n",
    "print(f\"Total Market Capitalization: {market_cap:.0f}\")\n",
    "print(f\"Total Numer of Banks: {len(banks)}\")\n",
    "print(f\"Average Market Capitalization: {market_cap/len(banks):.2f}\")\n",
    "print(f\"Largest Bank: {max(megacap)}\")\n",
    "print(f\"Smallest Bank: {min(smallcap)}\")\n",
    "print(\"------------------------------------------------\")\n",
    "print(f\"Mega Cap Banks: {megacap}\")\n",
    "print(f\"Large Cap Banks: {largecap}\")\n",
    "print(f\"Mid Cap Banks: {midcap}\")\n",
    "print(f\"Small Cap Banks: {smallcap}\")"
   ]
  },
  {
   "cell_type": "code",
   "execution_count": 144,
   "id": "unknown-commonwealth",
   "metadata": {},
   "outputs": [
    {
     "data": {
      "text/plain": [
       "['__class__',\n",
       " '__contains__',\n",
       " '__delattr__',\n",
       " '__delitem__',\n",
       " '__dir__',\n",
       " '__doc__',\n",
       " '__eq__',\n",
       " '__format__',\n",
       " '__ge__',\n",
       " '__getattribute__',\n",
       " '__getitem__',\n",
       " '__gt__',\n",
       " '__hash__',\n",
       " '__init__',\n",
       " '__init_subclass__',\n",
       " '__iter__',\n",
       " '__le__',\n",
       " '__len__',\n",
       " '__lt__',\n",
       " '__ne__',\n",
       " '__new__',\n",
       " '__reduce__',\n",
       " '__reduce_ex__',\n",
       " '__repr__',\n",
       " '__reversed__',\n",
       " '__setattr__',\n",
       " '__setitem__',\n",
       " '__sizeof__',\n",
       " '__str__',\n",
       " '__subclasshook__',\n",
       " 'clear',\n",
       " 'copy',\n",
       " 'fromkeys',\n",
       " 'get',\n",
       " 'items',\n",
       " 'keys',\n",
       " 'pop',\n",
       " 'popitem',\n",
       " 'setdefault',\n",
       " 'update',\n",
       " 'values']"
      ]
     },
     "execution_count": 144,
     "metadata": {},
     "output_type": "execute_result"
    }
   ],
   "source": [
    "dir(banks)"
   ]
  },
  {
   "cell_type": "code",
   "execution_count": null,
   "id": "yellow-steel",
   "metadata": {},
   "outputs": [],
   "source": []
  }
 ],
 "metadata": {
  "kernelspec": {
   "display_name": "Python 3",
   "language": "python",
   "name": "python3"
  },
  "language_info": {
   "codemirror_mode": {
    "name": "ipython",
    "version": 3
   },
   "file_extension": ".py",
   "mimetype": "text/x-python",
   "name": "python",
   "nbconvert_exporter": "python",
   "pygments_lexer": "ipython3",
   "version": "3.8.5"
  }
 },
 "nbformat": 4,
 "nbformat_minor": 5
}
