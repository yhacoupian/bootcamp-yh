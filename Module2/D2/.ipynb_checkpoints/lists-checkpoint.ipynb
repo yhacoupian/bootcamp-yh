{
 "cells": [
  {
   "cell_type": "code",
   "execution_count": 1,
   "id": "listed-protest",
   "metadata": {},
   "outputs": [],
   "source": [
    "grocery_list = [\"Water\", \"Butter\", \"Eggs\", \"Apples\", \"Cinnamon\", \"Sugar\", \"Milk\"]"
   ]
  },
  {
   "cell_type": "code",
   "execution_count": 2,
   "id": "fallen-howard",
   "metadata": {},
   "outputs": [
    {
     "data": {
      "text/plain": [
       "['Water', 'Butter']"
      ]
     },
     "execution_count": 2,
     "metadata": {},
     "output_type": "execute_result"
    }
   ],
   "source": [
    "grocery_list[:2]"
   ]
  },
  {
   "cell_type": "code",
   "execution_count": 5,
   "id": "thousand-still",
   "metadata": {},
   "outputs": [
    {
     "data": {
      "text/plain": [
       "['Eggs', 'Apples', 'Cinnamon', 'Sugar', 'Milk']"
      ]
     },
     "execution_count": 5,
     "metadata": {},
     "output_type": "execute_result"
    }
   ],
   "source": [
    "grocery_list[2:]"
   ]
  },
  {
   "cell_type": "code",
   "execution_count": 6,
   "id": "timely-morning",
   "metadata": {},
   "outputs": [],
   "source": [
    "grocery_list.append(\"Flour\")"
   ]
  },
  {
   "cell_type": "code",
   "execution_count": 7,
   "id": "conditional-turkey",
   "metadata": {},
   "outputs": [
    {
     "data": {
      "text/plain": [
       "['Water', 'Butter', 'Eggs', 'Apples', 'Cinnamon', 'Sugar', 'Milk', 'Flour']"
      ]
     },
     "execution_count": 7,
     "metadata": {},
     "output_type": "execute_result"
    }
   ],
   "source": [
    "grocery_list"
   ]
  },
  {
   "cell_type": "code",
   "execution_count": 9,
   "id": "included-deployment",
   "metadata": {},
   "outputs": [],
   "source": [
    "grocery_list[3]= \"Gala Apples\""
   ]
  },
  {
   "cell_type": "code",
   "execution_count": 10,
   "id": "proof-holder",
   "metadata": {},
   "outputs": [
    {
     "data": {
      "text/plain": [
       "['Water',\n",
       " 'Butter',\n",
       " 'Eggs',\n",
       " 'Gala Apples',\n",
       " 'Cinnamon',\n",
       " 'Sugar',\n",
       " 'Milk',\n",
       " 'Flour']"
      ]
     },
     "execution_count": 10,
     "metadata": {},
     "output_type": "execute_result"
    }
   ],
   "source": [
    "grocery_list"
   ]
  },
  {
   "cell_type": "code",
   "execution_count": 11,
   "id": "large-italic",
   "metadata": {},
   "outputs": [
    {
     "data": {
      "text/plain": [
       "8"
      ]
     },
     "execution_count": 11,
     "metadata": {},
     "output_type": "execute_result"
    }
   ],
   "source": [
    "len(grocery_list)"
   ]
  },
  {
   "cell_type": "code",
   "execution_count": null,
   "id": "persistent-oriental",
   "metadata": {},
   "outputs": [],
   "source": []
  }
 ],
 "metadata": {
  "kernelspec": {
   "display_name": "Python 3",
   "language": "python",
   "name": "python3"
  },
  "language_info": {
   "codemirror_mode": {
    "name": "ipython",
    "version": 3
   },
   "file_extension": ".py",
   "mimetype": "text/x-python",
   "name": "python",
   "nbconvert_exporter": "python",
   "pygments_lexer": "ipython3",
   "version": "3.8.5"
  }
 },
 "nbformat": 4,
 "nbformat_minor": 5
}
