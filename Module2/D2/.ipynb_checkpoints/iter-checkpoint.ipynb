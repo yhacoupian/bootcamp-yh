{
 "cells": [
  {
   "cell_type": "code",
   "execution_count": 27,
   "id": "structural-inquiry",
   "metadata": {},
   "outputs": [],
   "source": [
    "trading_pnl = [ -224,  352, 252, 354, -544,\n",
    "                -650,   56, 123, -43,  254,\n",
    "                 325, -123,  47, 321,  123,\n",
    "                 133, -151, 613, 232, -311 ]"
   ]
  },
  {
   "cell_type": "code",
   "execution_count": 28,
   "id": "alleged-trainer",
   "metadata": {},
   "outputs": [],
   "source": [
    "total=0\n",
    "profit=0\n",
    "loss=0\n",
    "daily_avg=0\n",
    "unprofitable_days = []\n",
    "profitable_days = []\n",
    "worst_loss = 0\n",
    "best_gain = 0"
   ]
  },
  {
   "cell_type": "code",
   "execution_count": 29,
   "id": "present-therapist",
   "metadata": {},
   "outputs": [],
   "source": [
    "for item in trading_pnl:\n",
    "    if item > 0:\n",
    "        profitable_days.append(item)\n",
    "    else:\n",
    "        unprofitable_days.append(item)\n",
    "    total += item "
   ]
  },
  {
   "cell_type": "code",
   "execution_count": 30,
   "id": "furnished-disposal",
   "metadata": {},
   "outputs": [
    {
     "name": "stdout",
     "output_type": "stream",
     "text": [
      "---------Summary Statistics----------\n",
      "Number of Total Days: 20\n",
      "Number of Profitable Days: 13\n",
      "Number of Unprofitable Days: 7\n",
      "Percentage of Profitable Days: 65.0%\n",
      "Percentage of Unprofitable Days: 35.0%\n",
      "-------------------------------------\n",
      "Profitable Days: [352, 252, 354, 56, 123, 254, 325, 47, 321, 123, 133, 613, 232]\n",
      "Unprofitable Days: [-224, -544, -650, -43, -123, -151, -311]\n",
      "-------------------------------------\n",
      "Total Profits/Losses: 1139\n",
      "Daily Average: 56.95\n",
      "Worst Loss: -650\n",
      "Best Gain: 613\n"
     ]
    }
   ],
   "source": [
    "print(\"---------Summary Statistics----------\")\n",
    "print(f\"Number of Total Days: {len(trading_pnl)}\")\n",
    "print(f\"Number of Profitable Days: {len(profitable_days)}\")\n",
    "print(f\"Number of Unprofitable Days: {len(unprofitable_days)}\")\n",
    "print(f\"Percentage of Profitable Days: {(100*len(profitable_days)/len(trading_pnl)):.1f}%\")\n",
    "print(f\"Percentage of Unprofitable Days: {(100*len(unprofitable_days)/len(trading_pnl)):.1f}%\")\n",
    "print(\"-------------------------------------\")\n",
    "print(f\"Profitable Days: {profitable_days}\")\n",
    "print(f\"Unprofitable Days: {unprofitable_days}\")\n",
    "print(\"-------------------------------------\")\n",
    "print(f\"Total Profits/Losses: {total}\")\n",
    "print(f\"Daily Average: {total/len(trading_pnl)}\")\n",
    "print(f\"Worst Loss: {min(unprofitable_days)}\")\n",
    "print(f\"Best Gain: {max(profitable_days)}\")"
   ]
  }
 ],
 "metadata": {
  "kernelspec": {
   "display_name": "Python 3",
   "language": "python",
   "name": "python3"
  },
  "language_info": {
   "codemirror_mode": {
    "name": "ipython",
    "version": 3
   },
   "file_extension": ".py",
   "mimetype": "text/x-python",
   "name": "python",
   "nbconvert_exporter": "python",
   "pygments_lexer": "ipython3",
   "version": "3.8.5"
  }
 },
 "nbformat": 4,
 "nbformat_minor": 5
}
