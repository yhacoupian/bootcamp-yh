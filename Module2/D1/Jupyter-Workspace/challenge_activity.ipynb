{
 "cells": [
  {
   "cell_type": "code",
   "execution_count": 38,
   "metadata": {},
   "outputs": [
    {
     "name": "stdout",
     "output_type": "stream",
     "text": [
      "Stock original price was $360.35\n",
      "Stock current price is $293.33\n",
      "Stock percent change is -18.60%\n",
      "The given threshold to sell is 20%\n",
      "The given threshold to buy is 20%\n",
      "Your portfolio balance is $1466.65\n",
      "We recommend to STAY PUT!\n"
     ]
    }
   ],
   "source": [
    "# Initiate the variables \n",
    "original_price = 360.35 \n",
    "current_price = 293.33\n",
    "recommendation = \"STAY PUT\"\n",
    "threshold_to_sell = 20\n",
    "threshold_to_buy = -threshold_to_sell\n",
    "balance = round(5 * current_price, 2)\n",
    "\n",
    "# Calculate the percentage increase/decrease \n",
    "increase = current_price - original_price \n",
    "percent_increase = 100*increase/original_price\n",
    "\n",
    "\n",
    "\"\"\"\n",
    "    If the calculated percentage\n",
    "    is greater than the threshold then sell\n",
    "    If the calculated percentage is less than threshold then buy\n",
    "    otherwise do nothing!\n",
    "\"\"\"\n",
    "\n",
    "if (percent_increase < threshold_to_buy) and (balance>=5*current_price): \n",
    "    recommendation =\"BUY\"\n",
    "elif percent_increase > threshold_to_sell:\n",
    "    recommendation = \"SELL\"\n",
    "else:\n",
    "    recommendation\n",
    "\n",
    "print(f\"Stock original price was ${original_price}\")\n",
    "print(f\"Stock current price is ${current_price}\")\n",
    "print(f\"Stock percent change is {percent_increase:.2f}%\")\n",
    "print(f\"The given threshold to sell is {threshold_to_sell}%\")\n",
    "print(f\"The given threshold to buy is {-threshold_to_buy}%\")\n",
    "print(f\"Your portfolio balance is ${balance}\")\n",
    "print(f\"We recommend to {recommendation}!\")"
   ]
  },
  {
   "cell_type": "code",
   "execution_count": null,
   "metadata": {},
   "outputs": [],
   "source": []
  }
 ],
 "metadata": {
  "kernelspec": {
   "display_name": "Python 3",
   "language": "python",
   "name": "python3"
  },
  "language_info": {
   "codemirror_mode": {
    "name": "ipython",
    "version": 3
   },
   "file_extension": ".py",
   "mimetype": "text/x-python",
   "name": "python",
   "nbconvert_exporter": "python",
   "pygments_lexer": "ipython3",
   "version": "3.7.9"
  }
 },
 "nbformat": 4,
 "nbformat_minor": 4
}
