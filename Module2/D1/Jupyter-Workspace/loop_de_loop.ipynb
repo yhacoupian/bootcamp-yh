{
 "cells": [
  {
   "cell_type": "code",
   "execution_count": 15,
   "metadata": {},
   "outputs": [
    {
     "name": "stdout",
     "output_type": "stream",
     "text": [
      "give me a P\n",
      "P!\n",
      "give me a y\n",
      "y!\n",
      "give me a t\n",
      "t!\n",
      "give me an h\n",
      "h!\n",
      "give me an o\n",
      "o!\n",
      "give me a n\n",
      "n!\n",
      "\n",
      "What does that spell?!\n",
      "Python!\n",
      "Woohoo! Go Python!\n",
      "*\\O/**\\O/**\\O/*\n",
      "ヘ( ^o^)ノ＼(^_^ )\n"
     ]
    }
   ],
   "source": [
    "cheer = \"Python\"\n",
    "\n",
    "cheer_symbol = \"*\\O/*\"\n",
    "cheer_symbol_2 = \"ヘ( ^o^)ノ＼(^_^ )\"\n",
    "\n",
    "for letter in cheer:\n",
    "    if letter==' ': \n",
    "        print(\" \")\n",
    "    elif letter in 'aeiouh': #letter == 'a' or letter == 'e' or letter == 'i' or letter == 'o' or letter == 'u' or letter == 'y' or letter == 'w':\n",
    "        print(f\"give me an {letter}\")\n",
    "        print(letter+\"!\")\n",
    "    else:\n",
    "        print(f\"give me a {letter}\")\n",
    "        print(letter+\"!\")\n",
    "    \n",
    "print(\"\\nWhat does that spell?!\")\n",
    "print(cheer + \"!\\nWoohoo! Go \" + cheer + \"!\")\n",
    "print(cheer_symbol * 3)\n",
    "print(cheer_symbol_2)"
   ]
  },
  {
   "cell_type": "code",
   "execution_count": null,
   "metadata": {},
   "outputs": [],
   "source": []
  }
 ],
 "metadata": {
  "kernelspec": {
   "display_name": "Python 3",
   "language": "python",
   "name": "python3"
  },
  "language_info": {
   "codemirror_mode": {
    "name": "ipython",
    "version": 3
   },
   "file_extension": ".py",
   "mimetype": "text/x-python",
   "name": "python",
   "nbconvert_exporter": "python",
   "pygments_lexer": "ipython3",
   "version": "3.7.9"
  }
 },
 "nbformat": 4,
 "nbformat_minor": 5
}
